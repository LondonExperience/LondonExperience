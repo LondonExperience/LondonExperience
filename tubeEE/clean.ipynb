{
 "cells": [
  {
   "cell_type": "code",
   "execution_count": 1,
   "metadata": {},
   "outputs": [],
   "source": [
    "import pandas as pd"
   ]
  },
  {
   "cell_type": "code",
   "execution_count": 13,
   "metadata": {},
   "outputs": [],
   "source": [
    "a = pd.read_csv('dataee.csv', header=1)"
   ]
  },
  {
   "cell_type": "code",
   "execution_count": 28,
   "metadata": {},
   "outputs": [],
   "source": [
    "a['Weekday_Entry'] = a['Weekday_Entry'].astype('float')\n",
    "a['Saturday_Entry'] = a['Saturday_Entry'].astype('float')\n",
    "a['Sunday_Entry'] = a['Sunday_Entry'].astype('float')\n",
    "a['Weekday_Exit'] = a['Weekday_Exit'].astype('float')\n",
    "a['Saturday_Exit'] = a['Saturday_Exit'].astype('float')\n",
    "a['Sunday_Exit'] = a['Sunday_Exit'].astype('float')\n"
   ]
  },
  {
   "cell_type": "code",
   "execution_count": 29,
   "metadata": {},
   "outputs": [
    {
     "name": "stdout",
     "output_type": "stream",
     "text": [
      "<class 'pandas.core.frame.DataFrame'>\n",
      "RangeIndex: 268 entries, 0 to 267\n",
      "Data columns (total 11 columns):\n",
      "Station                            268 non-null object\n",
      "Borough                            268 non-null object\n",
      "Note                               259 non-null object\n",
      "Weekday_Entry                      268 non-null float64\n",
      "Saturday_Entry                     268 non-null float64\n",
      "Sunday_Entry                       268 non-null float64\n",
      "Weekday_Exit                       268 non-null float64\n",
      "Saturday_Exit                      268 non-null float64\n",
      "Sunday_Exit                        268 non-null float64\n",
      "million_Sum                        268 non-null float64\n",
      "(Weekday_Entry, Saturday_Entry)    268 non-null float64\n",
      "dtypes: float64(8), object(3)\n",
      "memory usage: 23.1+ KB\n"
     ]
    }
   ],
   "source": [
    "a.info()"
   ]
  },
  {
   "cell_type": "code",
   "execution_count": 30,
   "metadata": {},
   "outputs": [],
   "source": [
    "a.to_csv('eedata2017.csv')"
   ]
  },
  {
   "cell_type": "code",
   "execution_count": null,
   "metadata": {},
   "outputs": [],
   "source": []
  }
 ],
 "metadata": {
  "kernelspec": {
   "display_name": "Python 3",
   "language": "python",
   "name": "python3"
  },
  "language_info": {
   "codemirror_mode": {
    "name": "ipython",
    "version": 3
   },
   "file_extension": ".py",
   "mimetype": "text/x-python",
   "name": "python",
   "nbconvert_exporter": "python",
   "pygments_lexer": "ipython3",
   "version": "3.6.8"
  },
  "toc": {
   "base_numbering": 1,
   "nav_menu": {},
   "number_sections": true,
   "sideBar": true,
   "skip_h1_title": false,
   "title_cell": "Table of Contents",
   "title_sidebar": "Contents",
   "toc_cell": false,
   "toc_position": {},
   "toc_section_display": true,
   "toc_window_display": false
  }
 },
 "nbformat": 4,
 "nbformat_minor": 2
}
